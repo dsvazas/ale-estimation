{
 "cells": [
  {
   "cell_type": "code",
   "execution_count": null,
   "id": "6236562b-8875-4b30-8bfc-e3dffeebd434",
   "metadata": {},
   "outputs": [],
   "source": [
    "#Installing the required package\n",
    "pip install networkit"
   ]
  },
  {
   "cell_type": "code",
   "execution_count": null,
   "id": "959816bc-cf7f-4f0c-ab73-4ccd68f886c2",
   "metadata": {},
   "outputs": [],
   "source": [
    "#Importing required packages\n",
    "import networkit as nk\n",
    "import pandas as pd\n",
    "import seaborn as sns\n",
    "import matplotlib.pyplot as plt\n",
    "import numpy as np"
   ]
  },
  {
   "cell_type": "code",
   "execution_count": null,
   "id": "b9f0ac32-ab77-401b-9d5a-643be9f7a65e",
   "metadata": {},
   "outputs": [],
   "source": [
    "arel = pd.read_csv(### Asset relationship file directory here ###)"
   ]
  },
  {
   "cell_type": "code",
   "execution_count": null,
   "id": "9c57d1a3-6308-4162-a9c8-46d9c2210f10",
   "metadata": {},
   "outputs": [],
   "source": [
    "na_ids = arel.loc[arel[['source_asset_id','target_asset_id']].isnull().any(axis=1)]\n",
    "arel = arel.drop(labels = na_ids.index, axis = 0)"
   ]
  },
  {
   "cell_type": "code",
   "execution_count": null,
   "id": "51ad0709-39c1-43b9-8d1a-71fe35b1f5f0",
   "metadata": {},
   "outputs": [],
   "source": [
    "#Forming a graph based on the network\n",
    "unique= pd.unique(arel[['source_asset_id', 'target_asset_id']].values.ravel())\n",
    "node_to_id = {node: i for i, node in enumerate(unique)}\n",
    "id_to_node = {i: node for node, i in node_to_id.items()}\n",
    "\n",
    "G = nk.Graph(n = len(unique), weighted = False, directed = True)\n",
    "\n",
    "for _, row in arel.iterrows():\n",
    "    G.addEdge(node_to_id[row['source_asset_id']], node_to_id[row['target_asset_id']])"
   ]
  },
  {
   "cell_type": "code",
   "execution_count": null,
   "id": "59d2819f-7977-492a-af4c-ea6d1ea269fb",
   "metadata": {},
   "outputs": [],
   "source": [
    "#Obtaining centrality scores\n",
    "deg = [(G.degreeIn(i)+G.degreeOut(i)) for i in range(G.numberOfNodes())]\n",
    "\n",
    "deg_out = nk.centrality.DegreeCentrality(G, normalized=False, outDeg=True, ignoreSelfLoops=True)\n",
    "deg_out.run()\n",
    "degree_out = deg_out.scores()\n",
    "\n",
    "deg_in = nk.centrality.DegreeCentrality(G, normalized=False, outDeg=False, ignoreSelfLoops=True)\n",
    "deg_in.run()\n",
    "degree_in = deg_in.scores()\n",
    "\n",
    "ev = nk.centrality.EigenvectorCentrality(G)\n",
    "ev.run()\n",
    "eigenvector = ev.scores()\n",
    "\n",
    "cl = nk.centrality.Closeness(G, True, True)\n",
    "cl.run()\n",
    "closeness = cl.scores()\n",
    "\n",
    "btwn = nk.centrality.Betweenness(G)\n",
    "btwn.run()\n",
    "betweenness = btwn.scores()"
   ]
  },
  {
   "cell_type": "code",
   "execution_count": null,
   "id": "e552ced6-fe02-48e3-bd38-5b39cd2470c4",
   "metadata": {},
   "outputs": [],
   "source": [
    "#Exporting centrality scores\n",
    "c = pd.DataFrame({\n",
    "    'name': [id_to_node[i] for i in range(G.numberOfNodes())],\n",
    "    'degree': deg,\n",
    "    'in_degree': degree_in,\n",
    "    'out_degree': degree_out,\n",
    "    'betweenness': betweenness,\n",
    "    'closeness': closeness,\n",
    "    'eigenvector': eigenvector\n",
    "})\n",
    "\n",
    "c.to_csv('centrality_scores.csv', index=False)"
   ]
  }
 ],
 "metadata": {
  "kernelspec": {
   "display_name": "Python [conda env:base] *",
   "language": "python",
   "name": "conda-base-py"
  },
  "language_info": {
   "codemirror_mode": {
    "name": "ipython",
    "version": 3
   },
   "file_extension": ".py",
   "mimetype": "text/x-python",
   "name": "python",
   "nbconvert_exporter": "python",
   "pygments_lexer": "ipython3",
   "version": "3.11.11"
  }
 },
 "nbformat": 4,
 "nbformat_minor": 5
}
